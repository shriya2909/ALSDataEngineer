{
  "nbformat": 4,
  "nbformat_minor": 0,
  "metadata": {
    "colab": {
      "name": "ALSDataEngineer.ipynb",
      "provenance": [],
      "authorship_tag": "ABX9TyMOWIBTqFu6e3N8W08Zi5YA",
      "include_colab_link": true
    },
    "kernelspec": {
      "name": "python3",
      "display_name": "Python 3"
    }
  },
  "cells": [
    {
      "cell_type": "markdown",
      "metadata": {
        "id": "view-in-github",
        "colab_type": "text"
      },
      "source": [
        "<a href=\"https://colab.research.google.com/github/shriya2909/ALSDataEngineer/blob/master/ALSDataEngineer.ipynb\" target=\"_parent\"><img src=\"https://colab.research.google.com/assets/colab-badge.svg\" alt=\"Open In Colab\"/></a>"
      ]
    },
    {
      "cell_type": "code",
      "metadata": {
        "id": "OrtWk93D1183",
        "colab_type": "code",
        "colab": {
          "base_uri": "https://localhost:8080/",
          "height": 35
        },
        "outputId": "2ad9a5c3-f12a-4602-eab5-26a68a5cdd6a"
      },
      "source": [
        "## SKIP CELL IF USING LOCAL JUPYTERNOTEBOOK \n",
        "## THIS IS FOR GOOGLE COLAB NOTEBOOK \n",
        "#Access the google drive\n",
        "from google.colab import drive\n",
        "drive.mount('/content/drive')"
      ],
      "execution_count": 2,
      "outputs": [
        {
          "output_type": "stream",
          "text": [
            "Drive already mounted at /content/drive; to attempt to forcibly remount, call drive.mount(\"/content/drive\", force_remount=True).\n"
          ],
          "name": "stdout"
        }
      ]
    },
    {
      "cell_type": "code",
      "metadata": {
        "id": "043fmX5b1-HL",
        "colab_type": "code",
        "colab": {
          "base_uri": "https://localhost:8080/",
          "height": 72
        },
        "outputId": "6c66c34e-9c51-4411-d838-ecc714326160"
      },
      "source": [
        "\n",
        "## SKIP CELL AND SET DIRECTORY TO FOLDER CONTAINING ALS CSV FILES \n",
        "\n",
        "#Setting working directory to the correct directory \n",
        "#Set working directory to folder containing the ALS csv files \n",
        "!pwd\n",
        "%cd \"/content/drive/My Drive/Data Challenges/ALS\"\n",
        "!pwd\n",
        "\n"
      ],
      "execution_count": 3,
      "outputs": [
        {
          "output_type": "stream",
          "text": [
            "/content\n",
            "/content/drive/My Drive/Data Challenges/ALS\n",
            "/content/drive/My Drive/Data Challenges/ALS\n"
          ],
          "name": "stdout"
        }
      ]
    },
    {
      "cell_type": "code",
      "metadata": {
        "id": "g6bfxohx2rhV",
        "colab_type": "code",
        "colab": {}
      },
      "source": [
        "#Read the csv files into dataframes for data manipulation\n",
        "\n",
        "import pandas as pd\n",
        "\n",
        "cons = pd.DataFrame(pd.read_csv('./cons.csv'))\n",
        "cons_email =  pd.DataFrame(pd.read_csv('./cons_email.csv'))\n",
        "cons_email_chapter_subscription = pd.DataFrame(pd.read_csv('./cons_email_chapter_subscription.csv'))"
      ],
      "execution_count": 36,
      "outputs": []
    },
    {
      "cell_type": "code",
      "metadata": {
        "id": "xCCJ5SNt9sQf",
        "colab_type": "code",
        "colab": {
          "base_uri": "https://localhost:8080/",
          "height": 435
        },
        "outputId": "7b238cdc-d73d-4cd1-e7e4-b4e664cc25cb"
      },
      "source": [
        "cons_email.info()"
      ],
      "execution_count": 38,
      "outputs": [
        {
          "output_type": "stream",
          "text": [
            "<class 'pandas.core.frame.DataFrame'>\n",
            "RangeIndex: 1400000 entries, 0 to 1399999\n",
            "Data columns (total 16 columns):\n",
            " #   Column                Non-Null Count    Dtype \n",
            "---  ------                --------------    ----- \n",
            " 0   cons_email_id         1400000 non-null  int64 \n",
            " 1   cons_id               1400000 non-null  int64 \n",
            " 2   cons_email_type_id    1400000 non-null  int64 \n",
            " 3   is_primary            1400000 non-null  int64 \n",
            " 4   email                 1400000 non-null  object\n",
            " 5   canonical_local_part  700029 non-null   object\n",
            " 6   domain                1400000 non-null  object\n",
            " 7   double_validation     699825 non-null   object\n",
            " 8   create_dt             1400000 non-null  object\n",
            " 9   create_app            1400000 non-null  int64 \n",
            " 10  create_user           1400000 non-null  int64 \n",
            " 11  modified_dt           1400000 non-null  object\n",
            " 12  modified_app          1400000 non-null  int64 \n",
            " 13  modified_user         1400000 non-null  int64 \n",
            " 14  status                1400000 non-null  int64 \n",
            " 15  note                  139535 non-null   object\n",
            "dtypes: int64(9), object(7)\n",
            "memory usage: 170.9+ MB\n"
          ],
          "name": "stdout"
        }
      ]
    },
    {
      "cell_type": "code",
      "metadata": {
        "id": "1tWlHRNb4Mdk",
        "colab_type": "code",
        "colab": {
          "base_uri": "https://localhost:8080/",
          "height": 671
        },
        "outputId": "45ef944c-37fb-4b37-915e-0b4c7980abe4"
      },
      "source": [
        "cons.info()"
      ],
      "execution_count": 39,
      "outputs": [
        {
          "output_type": "stream",
          "text": [
            "<class 'pandas.core.frame.DataFrame'>\n",
            "RangeIndex: 700000 entries, 0 to 699999\n",
            "Data columns (total 29 columns):\n",
            " #   Column                      Non-Null Count   Dtype  \n",
            "---  ------                      --------------   -----  \n",
            " 0   cons_id                     700000 non-null  int64  \n",
            " 1   prefix                      350304 non-null  object \n",
            " 2   firstname                   350244 non-null  object \n",
            " 3   middlename                  560213 non-null  object \n",
            " 4   lastname                    349314 non-null  object \n",
            " 5   suffix                      349541 non-null  object \n",
            " 6   salutation                  350021 non-null  object \n",
            " 7   gender                      349891 non-null  object \n",
            " 8   birth_dt                    349954 non-null  object \n",
            " 9   title                       350082 non-null  object \n",
            " 10  employer                    349228 non-null  object \n",
            " 11  occupation                  350239 non-null  object \n",
            " 12  income                      350637 non-null  float64\n",
            " 13  source                      350026 non-null  object \n",
            " 14  subsource                   350315 non-null  object \n",
            " 15  userid                      700000 non-null  int64  \n",
            " 16  password                    700000 non-null  object \n",
            " 17  is_validated                700000 non-null  int64  \n",
            " 18  is_banned                   700000 non-null  int64  \n",
            " 19  change_password_next_login  700000 non-null  int64  \n",
            " 20  consent_type_id             700000 non-null  int64  \n",
            " 21  create_dt                   700000 non-null  object \n",
            " 22  create_app                  700000 non-null  int64  \n",
            " 23  create_user                 700000 non-null  int64  \n",
            " 24  modified_dt                 700000 non-null  object \n",
            " 25  modified_app                700000 non-null  int64  \n",
            " 26  modified_user               700000 non-null  int64  \n",
            " 27  status                      700000 non-null  int64  \n",
            " 28  note                        69884 non-null   object \n",
            "dtypes: float64(1), int64(11), object(17)\n",
            "memory usage: 154.9+ MB\n"
          ],
          "name": "stdout"
        }
      ]
    },
    {
      "cell_type": "code",
      "metadata": {
        "id": "ySjtuUc__UU5",
        "colab_type": "code",
        "colab": {
          "base_uri": "https://localhost:8080/",
          "height": 253
        },
        "outputId": "c299b361-5c0c-46fb-b149-6fc43bf3c792"
      },
      "source": [
        "cons_email_chapter_subscription.info()"
      ],
      "execution_count": 40,
      "outputs": [
        {
          "output_type": "stream",
          "text": [
            "<class 'pandas.core.frame.DataFrame'>\n",
            "RangeIndex: 350000 entries, 0 to 349999\n",
            "Data columns (total 6 columns):\n",
            " #   Column                              Non-Null Count   Dtype \n",
            "---  ------                              --------------   ----- \n",
            " 0   cons_email_chapter_subscription_id  350000 non-null  int64 \n",
            " 1   cons_email_id                       350000 non-null  int64 \n",
            " 2   chapter_id                          350000 non-null  int64 \n",
            " 3   isunsub                             350000 non-null  int64 \n",
            " 4   unsub_dt                            350000 non-null  object\n",
            " 5   modified_dt                         350000 non-null  object\n",
            "dtypes: int64(4), object(2)\n",
            "memory usage: 16.0+ MB\n"
          ],
          "name": "stdout"
        }
      ]
    },
    {
      "cell_type": "markdown",
      "metadata": {
        "id": "AYwMzKaLcTa9",
        "colab_type": "text"
      },
      "source": [
        "## Q1. PEOPLE CSV \n",
        "\n",
        "\n",
        "**1. Creating People Dataframe as following :**\n",
        "\n",
        "1.1.   email (string) <- Extracting emails which are primary -> cons_email.is_primary = 1 <br>\n",
        "1.2.   code (string) <- Extracting cons.source as the source code by joining with cons such that cons_email.cons_id = cons.cons_id<br>\n",
        "1.3. is_unsub (boolean) <- Is the primary email address unsubscribed? : Extracting cons_email_chapter_subscription.isunsub by joining cons_email_chapter_subscription with cons_email such that cons_email.cons_email_id = cons_email_chapter_subscription.cons_email_id\n",
        "<br>1.4. created_dt (datetime) <- cons.create_dt\n",
        "<br>1.5. updated_dt (datetime) <- cons.modified_dt\n",
        "\n",
        "**2. Writing People dataframe to csv file in the current directory**\n",
        "\n",
        "\n"
      ]
    },
    {
      "cell_type": "code",
      "metadata": {
        "id": "PVx54eI0YXbG",
        "colab_type": "code",
        "colab": {}
      },
      "source": [
        "column_names = [\"email\", \"code\", \"is_unsub\", \"created_dt\",\"updated_dt\"]\n",
        "people = pd.DataFrame(columns = column_names)"
      ],
      "execution_count": 41,
      "outputs": []
    },
    {
      "cell_type": "code",
      "metadata": {
        "id": "cpqsIOyHgQw8",
        "colab_type": "code",
        "colab": {}
      },
      "source": [
        "# Extracting only relevant columns that would be needed for creation of people dataframe\n",
        "cons_email_sub_cols= ['email','is_primary','cons_id','cons_email_id']\n",
        "cons_email_sub = cons_email[cons_email_sub_cols]\n",
        "cons_sub_cols = ['cons_id','source','create_dt','modified_dt']\n",
        "cons_sub = cons[cons_sub_cols]\n",
        "cons_email_chapter_subscription_sub_cols = ['cons_email_id','isunsub']\n",
        "cons_email_chapter_subscription_sub = cons_email_chapter_subscription[cons_email_chapter_subscription_sub_cols]"
      ],
      "execution_count": 43,
      "outputs": []
    },
    {
      "cell_type": "code",
      "metadata": {
        "id": "eZTcVKQymRAu",
        "colab_type": "code",
        "colab": {}
      },
      "source": [
        "cons_email_primary = cons_email_sub[cons_email_sub['is_primary']== 1]\n",
        "cons_email_primary = cons_email_primary.drop(['is_primary'], axis=1)\n",
        "cons_email_join_cons = cons_email_primary.merge(cons_sub, on = 'cons_id', how='inner')"
      ],
      "execution_count": 44,
      "outputs": []
    },
    {
      "cell_type": "code",
      "metadata": {
        "id": "5uvm0lzNoQcB",
        "colab_type": "code",
        "colab": {}
      },
      "source": [
        "cons_email_join_cons_subscription = cons_email_join_cons.merge(cons_email_chapter_subscription_sub,on = 'cons_email_id', how='inner')"
      ],
      "execution_count": 45,
      "outputs": []
    },
    {
      "cell_type": "code",
      "metadata": {
        "id": "pOQnfmLZoon9",
        "colab_type": "code",
        "colab": {}
      },
      "source": [
        "people = cons_email_join_cons_subscription.drop(['cons_id','cons_email_id'], axis=1)"
      ],
      "execution_count": 46,
      "outputs": []
    },
    {
      "cell_type": "code",
      "metadata": {
        "id": "LSB8OVw1qKnT",
        "colab_type": "code",
        "colab": {
          "base_uri": "https://localhost:8080/",
          "height": 235
        },
        "outputId": "2be50f23-58df-4a4e-c0f1-edcead61b7c1"
      },
      "source": [
        "people.info()"
      ],
      "execution_count": 47,
      "outputs": [
        {
          "output_type": "stream",
          "text": [
            "<class 'pandas.core.frame.DataFrame'>\n",
            "Int64Index: 221031 entries, 0 to 221030\n",
            "Data columns (total 5 columns):\n",
            " #   Column       Non-Null Count   Dtype \n",
            "---  ------       --------------   ----- \n",
            " 0   email        221031 non-null  object\n",
            " 1   source       111052 non-null  object\n",
            " 2   create_dt    221031 non-null  object\n",
            " 3   modified_dt  221031 non-null  object\n",
            " 4   isunsub      221031 non-null  int64 \n",
            "dtypes: int64(1), object(4)\n",
            "memory usage: 10.1+ MB\n"
          ],
          "name": "stdout"
        }
      ]
    },
    {
      "cell_type": "code",
      "metadata": {
        "id": "SuC5g-ubqGss",
        "colab_type": "code",
        "colab": {}
      },
      "source": [
        "people = people.rename(columns={'modified_dt': 'updated_dt', 'source': 'code', 'isunsub': 'is_unsub','create_dt': 'created_dt'})"
      ],
      "execution_count": 48,
      "outputs": []
    },
    {
      "cell_type": "code",
      "metadata": {
        "id": "Mz-ZQ26Vsr_e",
        "colab_type": "code",
        "colab": {}
      },
      "source": [
        "people['created_dt'] = pd.to_datetime(people['created_dt'])"
      ],
      "execution_count": 49,
      "outputs": []
    },
    {
      "cell_type": "code",
      "metadata": {
        "id": "Ev0wOxILta7I",
        "colab_type": "code",
        "colab": {}
      },
      "source": [
        "people['updated_dt'] = pd.to_datetime(people['updated_dt'])"
      ],
      "execution_count": 50,
      "outputs": []
    },
    {
      "cell_type": "code",
      "metadata": {
        "id": "mwcVQGPurI89",
        "colab_type": "code",
        "colab": {
          "base_uri": "https://localhost:8080/",
          "height": 126
        },
        "outputId": "7c7c86fa-d340-410b-bf5b-be816b371518"
      },
      "source": [
        "# Using dictionary to convert specific columns \n",
        "convert_dict = {'email': str, \n",
        "                'code' : str,\n",
        "                'is_unsub' : bool \n",
        "               } \n",
        "  \n",
        "people = people.astype(convert_dict) \n",
        "print(people.dtypes) "
      ],
      "execution_count": 51,
      "outputs": [
        {
          "output_type": "stream",
          "text": [
            "email                 object\n",
            "code                  object\n",
            "created_dt    datetime64[ns]\n",
            "updated_dt    datetime64[ns]\n",
            "is_unsub                bool\n",
            "dtype: object\n"
          ],
          "name": "stdout"
        }
      ]
    },
    {
      "cell_type": "code",
      "metadata": {
        "id": "6tyDqRHSwWKq",
        "colab_type": "code",
        "colab": {
          "base_uri": "https://localhost:8080/",
          "height": 206
        },
        "outputId": "8c83957f-0af2-4bf9-e1e7-6e12b35b3fbd"
      },
      "source": [
        "people.head()"
      ],
      "execution_count": 52,
      "outputs": [
        {
          "output_type": "execute_result",
          "data": {
            "text/html": [
              "<div>\n",
              "<style scoped>\n",
              "    .dataframe tbody tr th:only-of-type {\n",
              "        vertical-align: middle;\n",
              "    }\n",
              "\n",
              "    .dataframe tbody tr th {\n",
              "        vertical-align: top;\n",
              "    }\n",
              "\n",
              "    .dataframe thead th {\n",
              "        text-align: right;\n",
              "    }\n",
              "</style>\n",
              "<table border=\"1\" class=\"dataframe\">\n",
              "  <thead>\n",
              "    <tr style=\"text-align: right;\">\n",
              "      <th></th>\n",
              "      <th>email</th>\n",
              "      <th>code</th>\n",
              "      <th>created_dt</th>\n",
              "      <th>updated_dt</th>\n",
              "      <th>is_unsub</th>\n",
              "    </tr>\n",
              "  </thead>\n",
              "  <tbody>\n",
              "    <tr>\n",
              "      <th>0</th>\n",
              "      <td>aaron64@yahoo.com</td>\n",
              "      <td>nan</td>\n",
              "      <td>1992-06-01 06:07:45</td>\n",
              "      <td>1986-07-28 03:41:12</td>\n",
              "      <td>True</td>\n",
              "    </tr>\n",
              "    <tr>\n",
              "      <th>1</th>\n",
              "      <td>wyattvincent@hotmail.com</td>\n",
              "      <td>nan</td>\n",
              "      <td>1993-05-23 08:00:18</td>\n",
              "      <td>1983-05-07 09:29:18</td>\n",
              "      <td>True</td>\n",
              "    </tr>\n",
              "    <tr>\n",
              "      <th>2</th>\n",
              "      <td>tspencer@hotmail.com</td>\n",
              "      <td>twitter</td>\n",
              "      <td>1986-10-31 03:24:05</td>\n",
              "      <td>1979-09-22 05:01:01</td>\n",
              "      <td>True</td>\n",
              "    </tr>\n",
              "    <tr>\n",
              "      <th>3</th>\n",
              "      <td>ogarcia@gmail.com</td>\n",
              "      <td>nan</td>\n",
              "      <td>2010-10-03 05:49:12</td>\n",
              "      <td>1996-02-03 15:32:15</td>\n",
              "      <td>True</td>\n",
              "    </tr>\n",
              "    <tr>\n",
              "      <th>4</th>\n",
              "      <td>madeline69@mccarthy-jackson.com</td>\n",
              "      <td>twitter</td>\n",
              "      <td>2007-08-22 02:46:01</td>\n",
              "      <td>2014-07-15 01:05:24</td>\n",
              "      <td>True</td>\n",
              "    </tr>\n",
              "  </tbody>\n",
              "</table>\n",
              "</div>"
            ],
            "text/plain": [
              "                             email     code  ...          updated_dt is_unsub\n",
              "0                aaron64@yahoo.com      nan  ... 1986-07-28 03:41:12     True\n",
              "1         wyattvincent@hotmail.com      nan  ... 1983-05-07 09:29:18     True\n",
              "2             tspencer@hotmail.com  twitter  ... 1979-09-22 05:01:01     True\n",
              "3                ogarcia@gmail.com      nan  ... 1996-02-03 15:32:15     True\n",
              "4  madeline69@mccarthy-jackson.com  twitter  ... 2014-07-15 01:05:24     True\n",
              "\n",
              "[5 rows x 5 columns]"
            ]
          },
          "metadata": {
            "tags": []
          },
          "execution_count": 52
        }
      ]
    },
    {
      "cell_type": "code",
      "metadata": {
        "id": "ge_uF26LuVsp",
        "colab_type": "code",
        "colab": {}
      },
      "source": [
        "# Writing into csv file called people.csv in the working directory \n",
        "\n",
        "people.to_csv('people.csv', index=False)"
      ],
      "execution_count": 53,
      "outputs": []
    },
    {
      "cell_type": "markdown",
      "metadata": {
        "id": "H9QQqba7vK8n",
        "colab_type": "text"
      },
      "source": [
        "## Q2. Acquisition_facts\n"
      ]
    },
    {
      "cell_type": "code",
      "metadata": {
        "id": "Mp-dRNQj1sVp",
        "colab_type": "code",
        "colab": {}
      },
      "source": [
        "from datetime import datetime as dt\n",
        "\n",
        "# Converting timestamp to just the date \n",
        "people['created_dt'] = people['created_dt'].dt.normalize()"
      ],
      "execution_count": 55,
      "outputs": []
    },
    {
      "cell_type": "code",
      "metadata": {
        "id": "uyicj0Ca-d4A",
        "colab_type": "code",
        "colab": {}
      },
      "source": [
        "# Grouping by created date [ interpreted as acquisition_date] and getting their corresponding counts and extracting it into column called acquisitions\n",
        "Acquisition_facts = people.groupby('created_dt').size().reset_index(name='acquisitions')"
      ],
      "execution_count": 70,
      "outputs": []
    },
    {
      "cell_type": "code",
      "metadata": {
        "id": "ff3_HX5iEecj",
        "colab_type": "code",
        "colab": {}
      },
      "source": [
        "Acquisition_facts = Acquisition_facts.rename(columns={'created_dt':'acquisition_date'})"
      ],
      "execution_count": 71,
      "outputs": []
    },
    {
      "cell_type": "code",
      "metadata": {
        "id": "lA1dA9gkEqde",
        "colab_type": "code",
        "colab": {
          "base_uri": "https://localhost:8080/",
          "height": 181
        },
        "outputId": "9ad35700-07f5-435c-b38b-f86d77539735"
      },
      "source": [
        "# Checking the datatypes of columns\n",
        "Acquisition_facts.info()"
      ],
      "execution_count": 72,
      "outputs": [
        {
          "output_type": "stream",
          "text": [
            "<class 'pandas.core.frame.DataFrame'>\n",
            "RangeIndex: 18443 entries, 0 to 18442\n",
            "Data columns (total 2 columns):\n",
            " #   Column            Non-Null Count  Dtype         \n",
            "---  ------            --------------  -----         \n",
            " 0   acquisition_date  18443 non-null  datetime64[ns]\n",
            " 1   acquisitions      18443 non-null  int64         \n",
            "dtypes: datetime64[ns](1), int64(1)\n",
            "memory usage: 288.3 KB\n"
          ],
          "name": "stdout"
        }
      ]
    },
    {
      "cell_type": "code",
      "metadata": {
        "id": "wALBJ7AQEu82",
        "colab_type": "code",
        "colab": {
          "base_uri": "https://localhost:8080/",
          "height": 206
        },
        "outputId": "a10b625e-83fb-494e-b909-04db1a9bd19a"
      },
      "source": [
        "Acquisition_facts.head()"
      ],
      "execution_count": 73,
      "outputs": [
        {
          "output_type": "execute_result",
          "data": {
            "text/html": [
              "<div>\n",
              "<style scoped>\n",
              "    .dataframe tbody tr th:only-of-type {\n",
              "        vertical-align: middle;\n",
              "    }\n",
              "\n",
              "    .dataframe tbody tr th {\n",
              "        vertical-align: top;\n",
              "    }\n",
              "\n",
              "    .dataframe thead th {\n",
              "        text-align: right;\n",
              "    }\n",
              "</style>\n",
              "<table border=\"1\" class=\"dataframe\">\n",
              "  <thead>\n",
              "    <tr style=\"text-align: right;\">\n",
              "      <th></th>\n",
              "      <th>acquisition_date</th>\n",
              "      <th>acquisitions</th>\n",
              "    </tr>\n",
              "  </thead>\n",
              "  <tbody>\n",
              "    <tr>\n",
              "      <th>0</th>\n",
              "      <td>1970-01-01</td>\n",
              "      <td>8</td>\n",
              "    </tr>\n",
              "    <tr>\n",
              "      <th>1</th>\n",
              "      <td>1970-01-02</td>\n",
              "      <td>9</td>\n",
              "    </tr>\n",
              "    <tr>\n",
              "      <th>2</th>\n",
              "      <td>1970-01-03</td>\n",
              "      <td>13</td>\n",
              "    </tr>\n",
              "    <tr>\n",
              "      <th>3</th>\n",
              "      <td>1970-01-04</td>\n",
              "      <td>12</td>\n",
              "    </tr>\n",
              "    <tr>\n",
              "      <th>4</th>\n",
              "      <td>1970-01-05</td>\n",
              "      <td>19</td>\n",
              "    </tr>\n",
              "  </tbody>\n",
              "</table>\n",
              "</div>"
            ],
            "text/plain": [
              "  acquisition_date  acquisitions\n",
              "0       1970-01-01             8\n",
              "1       1970-01-02             9\n",
              "2       1970-01-03            13\n",
              "3       1970-01-04            12\n",
              "4       1970-01-05            19"
            ]
          },
          "metadata": {
            "tags": []
          },
          "execution_count": 73
        }
      ]
    },
    {
      "cell_type": "code",
      "metadata": {
        "id": "zeeFwYyAEx4E",
        "colab_type": "code",
        "colab": {}
      },
      "source": [
        "# Writing into csv file called Acquisition_facts.csv in the working directory \n",
        "\n",
        "Acquisition_facts.to_csv('Acquisition_facts.csv', index=False)"
      ],
      "execution_count": 74,
      "outputs": []
    }
  ]
}